{
 "cells": [
  {
   "attachments": {},
   "cell_type": "markdown",
   "metadata": {},
   "source": [
    "# \"Power\" integers\n",
    "\n",
    "The power of an integer x is defined as the number of steps needed to transform x into 1 using the following steps:\n",
    "\n",
    "    if x is even then x = x / 2\n",
    "    if x is odd then x = 3 * x + 1\n",
    "\n",
    "For example, the power of x = 3 is 7 because 3 needs 7 steps to become 1 (3 --> 10 --> 5 --> 16 --> 8 --> 4 --> 2 --> 1).\n",
    "\n",
    "Let's find number of steps for every integer up to 5000000 and compare iterative, recursive and dynamic programming algorithm."
   ]
  },
  {
   "cell_type": "code",
   "execution_count": null,
   "metadata": {},
   "outputs": [],
   "source": [
    "def powerIter(n):\n",
    "    counter = 0\n",
    "    while n > 1:\n",
    "        n = n // 2 if n % 2 == 0 else n * 3 + 1\n",
    "        counter += 1\n",
    "    return counter\n",
    "\n",
    "\n",
    "l = []\n",
    "for i in range(5000000):\n",
    "    l.append(powerIter(i))\n",
    "l"
   ]
  },
  {
   "cell_type": "code",
   "execution_count": null,
   "metadata": {},
   "outputs": [],
   "source": [
    "def powerRec(n):\n",
    "    if n == 1:\n",
    "        return 0\n",
    "    if n > 1:\n",
    "        n = n // 2 if n % 2 == 0 else n * 3 + 1\n",
    "        return powerRec(n) + 1\n",
    "\n",
    "\n",
    "l = []\n",
    "for i in range(5000000):\n",
    "    l.append(powerRec(i))\n",
    "l"
   ]
  },
  {
   "cell_type": "code",
   "execution_count": null,
   "metadata": {},
   "outputs": [],
   "source": [
    "cache = {1: 0}\n",
    "\n",
    "def powerDP(n):\n",
    "    if n == 1:\n",
    "        return 0\n",
    "    if n > 1:\n",
    "        if res := cache.get(n):\n",
    "            return res\n",
    "        res = powerDP(n // 2) + 1 if n % 2 == 0 else powerDP(n * 3 + 1) + 1\n",
    "        cache[n] = res\n",
    "        return res\n",
    "\n",
    "\n",
    "l = []\n",
    "for i in range(5000000):\n",
    "    l.append(powerDP(i))\n",
    "l"
   ]
  }
 ],
 "metadata": {
  "kernelspec": {
   "display_name": ".venv",
   "language": "python",
   "name": "python3"
  },
  "language_info": {
   "codemirror_mode": {
    "name": "ipython",
    "version": 3
   },
   "file_extension": ".py",
   "mimetype": "text/x-python",
   "name": "python",
   "nbconvert_exporter": "python",
   "pygments_lexer": "ipython3",
   "version": "3.9.5"
  },
  "orig_nbformat": 4
 },
 "nbformat": 4,
 "nbformat_minor": 2
}
